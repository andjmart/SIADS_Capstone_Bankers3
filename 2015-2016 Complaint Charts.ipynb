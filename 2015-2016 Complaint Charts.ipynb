{
 "cells": [
  {
   "cell_type": "markdown",
   "id": "e8fecb3c",
   "metadata": {},
   "source": [
    "Code in this notebook is used to make chart for one time period. The dates for the desired study period can be set through the start_date and end_date variables.\n"
   ]
  },
  {
   "cell_type": "code",
   "execution_count": 1,
   "id": "00fee4bf",
   "metadata": {},
   "outputs": [],
   "source": [
    "import pandas as pd\n",
    "import numpy as np\n",
    "import altair as alt\n",
    "\n"
   ]
  },
  {
   "cell_type": "code",
   "execution_count": 3,
   "id": "7e47e921",
   "metadata": {},
   "outputs": [],
   "source": [
    "#Loads the CFPB Complaints Database\n",
    "\n",
    "df=pd.read_csv('complaints.csv', low_memory=False)\n",
    "df['Date_received_dt'] = pd.to_datetime(df['Date received'], format='%Y/%m/%d')"
   ]
  },
  {
   "cell_type": "code",
   "execution_count": 4,
   "id": "2967cfd7",
   "metadata": {},
   "outputs": [],
   "source": [
    "#create a smaller dataframe based on dates being used for analysis\n",
    "df_date = df[(df['Date received'] >= '2015-01-01') & (df['Date received'] <= '2016-12-31')]"
   ]
  },
  {
   "cell_type": "code",
   "execution_count": 5,
   "id": "f0f334aa",
   "metadata": {},
   "outputs": [],
   "source": [
    "\n",
    "#Identify the 5 banks or financial services companies with the most complaints for comparison\n",
    "#Don't run if comparing the same banks over a period of time, only run for the first time period\n",
    "top5=df_date.groupby('Company')['Complaint ID'].count().reset_index(name='count') \\\n",
    "            .sort_values(['count'], ascending=False) \\\n",
    "            .head(5)\n",
    "\n",
    "\n",
    "#create list of top 5 companies for use in analysis\n",
    "top_5_list = list(top5['Company'])\n",
    "df_date = None"
   ]
  },
  {
   "cell_type": "code",
   "execution_count": 6,
   "id": "17278a3a",
   "metadata": {},
   "outputs": [],
   "source": [
    "def get_date_df(start_date, end_date):\n",
    "    df_date = None\n",
    "    df_date = df[(df['Date received'] >= start_date ) & (df['Date received'] <= end_date)]\n",
    "    return df_date"
   ]
  },
  {
   "cell_type": "code",
   "execution_count": 7,
   "id": "037f128a",
   "metadata": {},
   "outputs": [],
   "source": [
    "start_date = '2015-01-01'\n",
    "end_date = '2016-12-31'\n",
    "\n",
    "\n",
    "df_date = get_date_df(start_date, end_date)\n",
    "\n",
    "\n"
   ]
  },
  {
   "cell_type": "code",
   "execution_count": 8,
   "id": "bd19ae0a",
   "metadata": {},
   "outputs": [
    {
     "data": {
      "text/plain": [
       "['EQUIFAX, INC.',\n",
       " 'Experian Information Solutions Inc.',\n",
       " 'TRANSUNION INTERMEDIATE HOLDINGS, INC.',\n",
       " 'WELLS FARGO & COMPANY',\n",
       " 'BANK OF AMERICA, NATIONAL ASSOCIATION']"
      ]
     },
     "execution_count": 8,
     "metadata": {},
     "output_type": "execute_result"
    }
   ],
   "source": [
    "top_5_list"
   ]
  },
  {
   "cell_type": "code",
   "execution_count": 9,
   "id": "07f93e57",
   "metadata": {},
   "outputs": [
    {
     "data": {
      "text/plain": [
       "Index(['Date received', 'Product', 'Sub-product', 'Issue', 'Sub-issue',\n",
       "       'Consumer complaint narrative', 'Company public response', 'Company',\n",
       "       'State', 'ZIP code', 'Tags', 'Consumer consent provided?',\n",
       "       'Submitted via', 'Date sent to company', 'Company response to consumer',\n",
       "       'Timely response?', 'Consumer disputed?', 'Complaint ID',\n",
       "       'Date_received_dt'],\n",
       "      dtype='object')"
      ]
     },
     "execution_count": 9,
     "metadata": {},
     "output_type": "execute_result"
    }
   ],
   "source": [
    "df_date.columns\n"
   ]
  },
  {
   "cell_type": "code",
   "execution_count": 89,
   "id": "b0b7c1e7",
   "metadata": {},
   "outputs": [
    {
     "data": {
      "text/html": [
       "\n",
       "<div id=\"altair-viz-daae9b87fb754b729f75a8cab2d74c7e\"></div>\n",
       "<script type=\"text/javascript\">\n",
       "  var VEGA_DEBUG = (typeof VEGA_DEBUG == \"undefined\") ? {} : VEGA_DEBUG;\n",
       "  (function(spec, embedOpt){\n",
       "    let outputDiv = document.currentScript.previousElementSibling;\n",
       "    if (outputDiv.id !== \"altair-viz-daae9b87fb754b729f75a8cab2d74c7e\") {\n",
       "      outputDiv = document.getElementById(\"altair-viz-daae9b87fb754b729f75a8cab2d74c7e\");\n",
       "    }\n",
       "    const paths = {\n",
       "      \"vega\": \"https://cdn.jsdelivr.net/npm//vega@5?noext\",\n",
       "      \"vega-lib\": \"https://cdn.jsdelivr.net/npm//vega-lib?noext\",\n",
       "      \"vega-lite\": \"https://cdn.jsdelivr.net/npm//vega-lite@4.17.0?noext\",\n",
       "      \"vega-embed\": \"https://cdn.jsdelivr.net/npm//vega-embed@6?noext\",\n",
       "    };\n",
       "\n",
       "    function maybeLoadScript(lib, version) {\n",
       "      var key = `${lib.replace(\"-\", \"\")}_version`;\n",
       "      return (VEGA_DEBUG[key] == version) ?\n",
       "        Promise.resolve(paths[lib]) :\n",
       "        new Promise(function(resolve, reject) {\n",
       "          var s = document.createElement('script');\n",
       "          document.getElementsByTagName(\"head\")[0].appendChild(s);\n",
       "          s.async = true;\n",
       "          s.onload = () => {\n",
       "            VEGA_DEBUG[key] = version;\n",
       "            return resolve(paths[lib]);\n",
       "          };\n",
       "          s.onerror = () => reject(`Error loading script: ${paths[lib]}`);\n",
       "          s.src = paths[lib];\n",
       "        });\n",
       "    }\n",
       "\n",
       "    function showError(err) {\n",
       "      outputDiv.innerHTML = `<div class=\"error\" style=\"color:red;\">${err}</div>`;\n",
       "      throw err;\n",
       "    }\n",
       "\n",
       "    function displayChart(vegaEmbed) {\n",
       "      vegaEmbed(outputDiv, spec, embedOpt)\n",
       "        .catch(err => showError(`Javascript Error: ${err.message}<br>This usually means there's a typo in your chart specification. See the javascript console for the full traceback.`));\n",
       "    }\n",
       "\n",
       "    if(typeof define === \"function\" && define.amd) {\n",
       "      requirejs.config({paths});\n",
       "      require([\"vega-embed\"], displayChart, err => showError(`Error loading script: ${err.message}`));\n",
       "    } else {\n",
       "      maybeLoadScript(\"vega\", \"5\")\n",
       "        .then(() => maybeLoadScript(\"vega-lite\", \"4.17.0\"))\n",
       "        .then(() => maybeLoadScript(\"vega-embed\", \"6\"))\n",
       "        .catch(showError)\n",
       "        .then(() => displayChart(vegaEmbed));\n",
       "    }\n",
       "  })({\"config\": {\"view\": {\"continuousWidth\": 400, \"continuousHeight\": 300}, \"legend\": {\"labelFontSize\": 15, \"labelLimit\": 300, \"titleFontSize\": 18}}, \"data\": {\"name\": \"data-b8d4defdf06fa5108750a93e8daaf809\"}, \"mark\": \"bar\", \"encoding\": {\"x\": {\"field\": \"Count\", \"scale\": {\"domain\": [0, 16000]}, \"type\": \"quantitative\"}, \"y\": {\"field\": \"Issue\", \"sort\": \"-x\", \"type\": \"nominal\"}}, \"height\": 200, \"title\": \"Top 5 Issue Categories 2015-2016\", \"width\": 300, \"$schema\": \"https://vega.github.io/schema/vega-lite/v4.17.0.json\", \"datasets\": {\"data-b8d4defdf06fa5108750a93e8daaf809\": [{\"Issue\": \"Incorrect information on credit report\", \"Count\": 6368}, {\"Issue\": \"Credit reporting company's investigation\", \"Count\": 1707}, {\"Issue\": \"Unable to get credit report/credit score\", \"Count\": 735}, {\"Issue\": \"Improper use of my credit report\", \"Count\": 405}, {\"Issue\": \"Credit monitoring or identity protection\", \"Count\": 223}]}}, {\"mode\": \"vega-lite\"});\n",
       "</script>"
      ],
      "text/plain": [
       "alt.Chart(...)"
      ]
     },
     "execution_count": 89,
     "metadata": {},
     "output_type": "execute_result"
    }
   ],
   "source": [
    "equifax_df = df_date[df_date['Company'].values  == 'EQUIFAX, INC.']\n",
    "\n",
    "equifax_issues_df = equifax_df.groupby('Issue')['Issue'].count().reset_index(name='count') \\\n",
    "    .sort_values(['count'], ascending=False)\n",
    "\n",
    "#create a dataframe that only has data for complaints with public customer complaint narrative\n",
    "equifax_narrative_only_df = equifax_df.dropna(subset=['Consumer complaint narrative'])\n",
    "\n",
    "equifax_narrative_only_issues_df = equifax_narrative_only_df.groupby('Issue')['Issue'].count().reset_index(name='Count') \\\n",
    "    .sort_values(['Count'], ascending=False)\n",
    "\n",
    "equifax_bars = alt.Chart(equifax_narrative_only_issues_df.head(5)).mark_bar().encode(\n",
    "    x=alt.X('Count:Q', scale=alt.Scale(domain=[0, 16000])),\n",
    "    y=alt.Y('Issue:N', sort='-x')\n",
    ").properties(width=300, height =200, title='Top 5 Issue Categories 2015-2016').configure_legend(\n",
    "    labelLimit= 300, titleFontSize = 18, labelFontSize=15)\n",
    "\n",
    "\n",
    "\n",
    "equifax_donut = alt.Chart(equifax_narrative_only_issues_df.head(5)).mark_arc(innerRadius=120).encode(\n",
    "    theta=alt.Theta(field=\"Count\", type=\"quantitative\"),\n",
    "    color=alt.Color(field=\"Issue\", type=\"nominal\", \n",
    "                    legend=alt.Legend(orient=\"right\"))\n",
    ").properties(width=400, height =400, title='Top 5 Issue Categories 2015-2016').configure_legend(labelLimit= 300, titleFontSize = 18, labelFontSize=15).configure_view(\n",
    "        strokeWidth=0\n",
    ")\n",
    "    \n",
    "equifax_bars\n",
    "#equifax_donut\n",
    "\n",
    "# print(equifax_issues_df)\n",
    "\n",
    "# print(equifax_narrative_only_issues_df)"
   ]
  },
  {
   "cell_type": "code",
   "execution_count": 91,
   "id": "45b25f0d",
   "metadata": {},
   "outputs": [
    {
     "data": {
      "text/html": [
       "\n",
       "<div id=\"altair-viz-7d4b7a6e2b494103906fab1dfde47ec9\"></div>\n",
       "<script type=\"text/javascript\">\n",
       "  var VEGA_DEBUG = (typeof VEGA_DEBUG == \"undefined\") ? {} : VEGA_DEBUG;\n",
       "  (function(spec, embedOpt){\n",
       "    let outputDiv = document.currentScript.previousElementSibling;\n",
       "    if (outputDiv.id !== \"altair-viz-7d4b7a6e2b494103906fab1dfde47ec9\") {\n",
       "      outputDiv = document.getElementById(\"altair-viz-7d4b7a6e2b494103906fab1dfde47ec9\");\n",
       "    }\n",
       "    const paths = {\n",
       "      \"vega\": \"https://cdn.jsdelivr.net/npm//vega@5?noext\",\n",
       "      \"vega-lib\": \"https://cdn.jsdelivr.net/npm//vega-lib?noext\",\n",
       "      \"vega-lite\": \"https://cdn.jsdelivr.net/npm//vega-lite@4.17.0?noext\",\n",
       "      \"vega-embed\": \"https://cdn.jsdelivr.net/npm//vega-embed@6?noext\",\n",
       "    };\n",
       "\n",
       "    function maybeLoadScript(lib, version) {\n",
       "      var key = `${lib.replace(\"-\", \"\")}_version`;\n",
       "      return (VEGA_DEBUG[key] == version) ?\n",
       "        Promise.resolve(paths[lib]) :\n",
       "        new Promise(function(resolve, reject) {\n",
       "          var s = document.createElement('script');\n",
       "          document.getElementsByTagName(\"head\")[0].appendChild(s);\n",
       "          s.async = true;\n",
       "          s.onload = () => {\n",
       "            VEGA_DEBUG[key] = version;\n",
       "            return resolve(paths[lib]);\n",
       "          };\n",
       "          s.onerror = () => reject(`Error loading script: ${paths[lib]}`);\n",
       "          s.src = paths[lib];\n",
       "        });\n",
       "    }\n",
       "\n",
       "    function showError(err) {\n",
       "      outputDiv.innerHTML = `<div class=\"error\" style=\"color:red;\">${err}</div>`;\n",
       "      throw err;\n",
       "    }\n",
       "\n",
       "    function displayChart(vegaEmbed) {\n",
       "      vegaEmbed(outputDiv, spec, embedOpt)\n",
       "        .catch(err => showError(`Javascript Error: ${err.message}<br>This usually means there's a typo in your chart specification. See the javascript console for the full traceback.`));\n",
       "    }\n",
       "\n",
       "    if(typeof define === \"function\" && define.amd) {\n",
       "      requirejs.config({paths});\n",
       "      require([\"vega-embed\"], displayChart, err => showError(`Error loading script: ${err.message}`));\n",
       "    } else {\n",
       "      maybeLoadScript(\"vega\", \"5\")\n",
       "        .then(() => maybeLoadScript(\"vega-lite\", \"4.17.0\"))\n",
       "        .then(() => maybeLoadScript(\"vega-embed\", \"6\"))\n",
       "        .catch(showError)\n",
       "        .then(() => displayChart(vegaEmbed));\n",
       "    }\n",
       "  })({\"config\": {\"view\": {\"continuousWidth\": 400, \"continuousHeight\": 300}, \"legend\": {\"labelFontSize\": 15, \"labelLimit\": 300, \"titleFontSize\": 18}}, \"data\": {\"name\": \"data-624356be3ba51a3f7b3c3aa7f837db03\"}, \"mark\": \"bar\", \"encoding\": {\"x\": {\"field\": \"Count\", \"scale\": {\"domain\": [0, 16000]}, \"type\": \"quantitative\"}, \"y\": {\"field\": \"Issue\", \"sort\": \"-x\", \"type\": \"nominal\"}}, \"height\": 200, \"title\": \"Top 5 Issue Categories 2015-2016\", \"width\": 300, \"$schema\": \"https://vega.github.io/schema/vega-lite/v4.17.0.json\", \"datasets\": {\"data-624356be3ba51a3f7b3c3aa7f837db03\": [{\"Issue\": \"Incorrect information on credit report\", \"Count\": 4690}, {\"Issue\": \"Credit reporting company's investigation\", \"Count\": 1572}, {\"Issue\": \"Unable to get credit report/credit score\", \"Count\": 640}, {\"Issue\": \"Improper use of my credit report\", \"Count\": 356}, {\"Issue\": \"Credit monitoring or identity protection\", \"Count\": 317}]}}, {\"mode\": \"vega-lite\"});\n",
       "</script>"
      ],
      "text/plain": [
       "alt.Chart(...)"
      ]
     },
     "execution_count": 91,
     "metadata": {},
     "output_type": "execute_result"
    }
   ],
   "source": [
    "experian_df = df_date[df_date['Company'].values  == 'Experian Information Solutions Inc.']\n",
    "\n",
    "experian_issues_df = experian_df.groupby('Issue')['Issue'].count().reset_index(name='count') \\\n",
    "    .sort_values(['count'], ascending=False)\n",
    "\n",
    "\n",
    "#create a dataframe that only has data for complaints with public customer complaint narrative\n",
    "experian_narrative_only_df = experian_df.dropna(subset=['Consumer complaint narrative'])\n",
    "\n",
    "experian_narrative_only_issues_df = experian_narrative_only_df.groupby('Issue')['Issue'].count().reset_index(name='Count') \\\n",
    "    .sort_values(['Count'], ascending=False)\n",
    "\n",
    "experian_bars = alt.Chart(experian_narrative_only_issues_df.head(5)).mark_bar().encode(\n",
    "    x=alt.X('Count:Q', scale=alt.Scale(domain=[0, 16000])),\n",
    "    y=alt.Y('Issue:N', sort='-x')\n",
    ").properties(width=300, height =200, title='Top 5 Issue Categories 2015-2016').configure_legend(\n",
    "    labelLimit= 300, titleFontSize = 18, labelFontSize=15)\n",
    "\n",
    "experian_bars\n",
    "\n",
    "# print(experian_issues_df)\n",
    "\n",
    "# print(experian_narrative_only_issues_df)"
   ]
  },
  {
   "cell_type": "code",
   "execution_count": 90,
   "id": "c7053bbf",
   "metadata": {},
   "outputs": [
    {
     "data": {
      "text/html": [
       "\n",
       "<div id=\"altair-viz-0d6f7539e67d4dc8a3a4a490baa83cb0\"></div>\n",
       "<script type=\"text/javascript\">\n",
       "  var VEGA_DEBUG = (typeof VEGA_DEBUG == \"undefined\") ? {} : VEGA_DEBUG;\n",
       "  (function(spec, embedOpt){\n",
       "    let outputDiv = document.currentScript.previousElementSibling;\n",
       "    if (outputDiv.id !== \"altair-viz-0d6f7539e67d4dc8a3a4a490baa83cb0\") {\n",
       "      outputDiv = document.getElementById(\"altair-viz-0d6f7539e67d4dc8a3a4a490baa83cb0\");\n",
       "    }\n",
       "    const paths = {\n",
       "      \"vega\": \"https://cdn.jsdelivr.net/npm//vega@5?noext\",\n",
       "      \"vega-lib\": \"https://cdn.jsdelivr.net/npm//vega-lib?noext\",\n",
       "      \"vega-lite\": \"https://cdn.jsdelivr.net/npm//vega-lite@4.17.0?noext\",\n",
       "      \"vega-embed\": \"https://cdn.jsdelivr.net/npm//vega-embed@6?noext\",\n",
       "    };\n",
       "\n",
       "    function maybeLoadScript(lib, version) {\n",
       "      var key = `${lib.replace(\"-\", \"\")}_version`;\n",
       "      return (VEGA_DEBUG[key] == version) ?\n",
       "        Promise.resolve(paths[lib]) :\n",
       "        new Promise(function(resolve, reject) {\n",
       "          var s = document.createElement('script');\n",
       "          document.getElementsByTagName(\"head\")[0].appendChild(s);\n",
       "          s.async = true;\n",
       "          s.onload = () => {\n",
       "            VEGA_DEBUG[key] = version;\n",
       "            return resolve(paths[lib]);\n",
       "          };\n",
       "          s.onerror = () => reject(`Error loading script: ${paths[lib]}`);\n",
       "          s.src = paths[lib];\n",
       "        });\n",
       "    }\n",
       "\n",
       "    function showError(err) {\n",
       "      outputDiv.innerHTML = `<div class=\"error\" style=\"color:red;\">${err}</div>`;\n",
       "      throw err;\n",
       "    }\n",
       "\n",
       "    function displayChart(vegaEmbed) {\n",
       "      vegaEmbed(outputDiv, spec, embedOpt)\n",
       "        .catch(err => showError(`Javascript Error: ${err.message}<br>This usually means there's a typo in your chart specification. See the javascript console for the full traceback.`));\n",
       "    }\n",
       "\n",
       "    if(typeof define === \"function\" && define.amd) {\n",
       "      requirejs.config({paths});\n",
       "      require([\"vega-embed\"], displayChart, err => showError(`Error loading script: ${err.message}`));\n",
       "    } else {\n",
       "      maybeLoadScript(\"vega\", \"5\")\n",
       "        .then(() => maybeLoadScript(\"vega-lite\", \"4.17.0\"))\n",
       "        .then(() => maybeLoadScript(\"vega-embed\", \"6\"))\n",
       "        .catch(showError)\n",
       "        .then(() => displayChart(vegaEmbed));\n",
       "    }\n",
       "  })({\"config\": {\"view\": {\"continuousWidth\": 400, \"continuousHeight\": 300}, \"legend\": {\"labelFontSize\": 15, \"labelLimit\": 300, \"titleFontSize\": 18}}, \"data\": {\"name\": \"data-5b1816ef7d7179286238e7b1d1ccc938\"}, \"mark\": \"bar\", \"encoding\": {\"x\": {\"field\": \"Count\", \"scale\": {\"domain\": [0, 16000]}, \"type\": \"quantitative\"}, \"y\": {\"field\": \"Issue\", \"sort\": \"-x\", \"type\": \"nominal\"}}, \"height\": 200, \"title\": \"Top 5 Issue Categories 2015-2016\", \"width\": 300, \"$schema\": \"https://vega.github.io/schema/vega-lite/v4.17.0.json\", \"datasets\": {\"data-5b1816ef7d7179286238e7b1d1ccc938\": [{\"Issue\": \"Incorrect information on credit report\", \"Count\": 5179}, {\"Issue\": \"Credit reporting company's investigation\", \"Count\": 1136}, {\"Issue\": \"Unable to get credit report/credit score\", \"Count\": 444}, {\"Issue\": \"Improper use of my credit report\", \"Count\": 358}, {\"Issue\": \"Credit monitoring or identity protection\", \"Count\": 221}]}}, {\"mode\": \"vega-lite\"});\n",
       "</script>"
      ],
      "text/plain": [
       "alt.Chart(...)"
      ]
     },
     "execution_count": 90,
     "metadata": {},
     "output_type": "execute_result"
    }
   ],
   "source": [
    "transunion_df = df_date[df_date['Company'].values  == 'TRANSUNION INTERMEDIATE HOLDINGS, INC.']\n",
    "transunion_issues_df = transunion_df.groupby('Issue')['Issue'].count().reset_index(name='count') \\\n",
    "    .sort_values(['count'], ascending=False)\n",
    "\n",
    "#create a dataframe that only has data for complaints with public customer complaint narrative\n",
    "transunion_narrative_only_df = transunion_df.dropna(subset=['Consumer complaint narrative'])\n",
    "\n",
    "transunion_narrative_only_issues_df = transunion_narrative_only_df.groupby('Issue')['Issue'].count().reset_index(name='Count') \\\n",
    "    .sort_values(['Count'], ascending=False)\n",
    "\n",
    "\n",
    "transunion_bars = alt.Chart(transunion_narrative_only_issues_df.head(5)).mark_bar().encode(\n",
    "    x=alt.X('Count:Q', scale=alt.Scale(domain=[0, 16000])),\n",
    "    y=alt.Y('Issue:N', sort='-x')\n",
    ").properties(width=300, height =200, title='Top 5 Issue Categories 2015-2016').configure_legend(\n",
    "    labelLimit= 300, titleFontSize = 18, labelFontSize=15)\n",
    "\n",
    "transunion_bars\n",
    "\n",
    "# print(transunion_issues_df)\n",
    "\n",
    "# print(transunion_narrative_only_issues_df)"
   ]
  },
  {
   "cell_type": "code",
   "execution_count": 86,
   "id": "3dc63fda",
   "metadata": {},
   "outputs": [
    {
     "data": {
      "text/html": [
       "\n",
       "<div id=\"altair-viz-6a424cf56630488881074a807a14004d\"></div>\n",
       "<script type=\"text/javascript\">\n",
       "  var VEGA_DEBUG = (typeof VEGA_DEBUG == \"undefined\") ? {} : VEGA_DEBUG;\n",
       "  (function(spec, embedOpt){\n",
       "    let outputDiv = document.currentScript.previousElementSibling;\n",
       "    if (outputDiv.id !== \"altair-viz-6a424cf56630488881074a807a14004d\") {\n",
       "      outputDiv = document.getElementById(\"altair-viz-6a424cf56630488881074a807a14004d\");\n",
       "    }\n",
       "    const paths = {\n",
       "      \"vega\": \"https://cdn.jsdelivr.net/npm//vega@5?noext\",\n",
       "      \"vega-lib\": \"https://cdn.jsdelivr.net/npm//vega-lib?noext\",\n",
       "      \"vega-lite\": \"https://cdn.jsdelivr.net/npm//vega-lite@4.17.0?noext\",\n",
       "      \"vega-embed\": \"https://cdn.jsdelivr.net/npm//vega-embed@6?noext\",\n",
       "    };\n",
       "\n",
       "    function maybeLoadScript(lib, version) {\n",
       "      var key = `${lib.replace(\"-\", \"\")}_version`;\n",
       "      return (VEGA_DEBUG[key] == version) ?\n",
       "        Promise.resolve(paths[lib]) :\n",
       "        new Promise(function(resolve, reject) {\n",
       "          var s = document.createElement('script');\n",
       "          document.getElementsByTagName(\"head\")[0].appendChild(s);\n",
       "          s.async = true;\n",
       "          s.onload = () => {\n",
       "            VEGA_DEBUG[key] = version;\n",
       "            return resolve(paths[lib]);\n",
       "          };\n",
       "          s.onerror = () => reject(`Error loading script: ${paths[lib]}`);\n",
       "          s.src = paths[lib];\n",
       "        });\n",
       "    }\n",
       "\n",
       "    function showError(err) {\n",
       "      outputDiv.innerHTML = `<div class=\"error\" style=\"color:red;\">${err}</div>`;\n",
       "      throw err;\n",
       "    }\n",
       "\n",
       "    function displayChart(vegaEmbed) {\n",
       "      vegaEmbed(outputDiv, spec, embedOpt)\n",
       "        .catch(err => showError(`Javascript Error: ${err.message}<br>This usually means there's a typo in your chart specification. See the javascript console for the full traceback.`));\n",
       "    }\n",
       "\n",
       "    if(typeof define === \"function\" && define.amd) {\n",
       "      requirejs.config({paths});\n",
       "      require([\"vega-embed\"], displayChart, err => showError(`Error loading script: ${err.message}`));\n",
       "    } else {\n",
       "      maybeLoadScript(\"vega\", \"5\")\n",
       "        .then(() => maybeLoadScript(\"vega-lite\", \"4.17.0\"))\n",
       "        .then(() => maybeLoadScript(\"vega-embed\", \"6\"))\n",
       "        .catch(showError)\n",
       "        .then(() => displayChart(vegaEmbed));\n",
       "    }\n",
       "  })({\"config\": {\"view\": {\"continuousWidth\": 400, \"continuousHeight\": 300}, \"legend\": {\"labelFontSize\": 15, \"labelLimit\": 600, \"titleFontSize\": 18}}, \"data\": {\"name\": \"data-5dcf6238cec9f7b805b98f962023b047\"}, \"mark\": \"bar\", \"encoding\": {\"x\": {\"field\": \"Count\", \"type\": \"quantitative\"}, \"y\": {\"field\": \"Issue\", \"sort\": \"-x\", \"type\": \"nominal\"}}, \"height\": 200, \"title\": \"Top 5 Issue Categories 2015-2016\", \"width\": 300, \"$schema\": \"https://vega.github.io/schema/vega-lite/v4.17.0.json\", \"datasets\": {\"data-5dcf6238cec9f7b805b98f962023b047\": [{\"Issue\": \"Loan modification,collection,foreclosure\", \"Count\": 1446}, {\"Issue\": \"Loan servicing, payments, escrow account\", \"Count\": 1000}, {\"Issue\": \"Account opening, closing, or management\", \"Count\": 648}, {\"Issue\": \"Deposits and withdrawals\", \"Count\": 426}, {\"Issue\": \"Application, originator, mortgage broker\", \"Count\": 409}]}}, {\"mode\": \"vega-lite\"});\n",
       "</script>"
      ],
      "text/plain": [
       "alt.Chart(...)"
      ]
     },
     "execution_count": 86,
     "metadata": {},
     "output_type": "execute_result"
    }
   ],
   "source": [
    "wellsfargo_df = df_date[df_date['Company'].values  == 'WELLS FARGO & COMPANY']\n",
    "wellsfargo_issues_df = wellsfargo_df.groupby('Issue')['Issue'].count().reset_index(name='count') \\\n",
    "    .sort_values(['count'], ascending=False)\n",
    "\n",
    "#create a dataframe that only has data for complaints with public customer complaint narrative\n",
    "wellsfargo_narrative_only_df = wellsfargo_df.dropna(subset=['Consumer complaint narrative'])\n",
    "\n",
    "wellsfargo_narrative_only_issues_df = wellsfargo_narrative_only_df.groupby('Issue')['Issue'].count().reset_index(name='Count') \\\n",
    "    .sort_values(['Count'], ascending=False)\n",
    "\n",
    "wellsfargo_bars = alt.Chart(wellsfargo_narrative_only_issues_df.head(5)).mark_bar().encode(\n",
    "    x='Count:Q',\n",
    "    y=alt.Y('Issue:N', sort='-x')\n",
    ").properties(width=300, height =200, title='Top 5 Issue Categories 2015-2016').configure_legend(\n",
    "    labelLimit= 600, titleFontSize = 18, labelFontSize=15)\n",
    "\n",
    "wellsfargo_bars\n",
    "\n",
    "# print(wellsfargo_issues_df)\n",
    "\n",
    "# print(wellsfargo_narrative_only_issues_df)"
   ]
  },
  {
   "cell_type": "code",
   "execution_count": 92,
   "id": "a7c4d798",
   "metadata": {},
   "outputs": [
    {
     "data": {
      "text/html": [
       "\n",
       "<div id=\"altair-viz-123ecf85635e499ba525a5de62a3607a\"></div>\n",
       "<script type=\"text/javascript\">\n",
       "  var VEGA_DEBUG = (typeof VEGA_DEBUG == \"undefined\") ? {} : VEGA_DEBUG;\n",
       "  (function(spec, embedOpt){\n",
       "    let outputDiv = document.currentScript.previousElementSibling;\n",
       "    if (outputDiv.id !== \"altair-viz-123ecf85635e499ba525a5de62a3607a\") {\n",
       "      outputDiv = document.getElementById(\"altair-viz-123ecf85635e499ba525a5de62a3607a\");\n",
       "    }\n",
       "    const paths = {\n",
       "      \"vega\": \"https://cdn.jsdelivr.net/npm//vega@5?noext\",\n",
       "      \"vega-lib\": \"https://cdn.jsdelivr.net/npm//vega-lib?noext\",\n",
       "      \"vega-lite\": \"https://cdn.jsdelivr.net/npm//vega-lite@4.17.0?noext\",\n",
       "      \"vega-embed\": \"https://cdn.jsdelivr.net/npm//vega-embed@6?noext\",\n",
       "    };\n",
       "\n",
       "    function maybeLoadScript(lib, version) {\n",
       "      var key = `${lib.replace(\"-\", \"\")}_version`;\n",
       "      return (VEGA_DEBUG[key] == version) ?\n",
       "        Promise.resolve(paths[lib]) :\n",
       "        new Promise(function(resolve, reject) {\n",
       "          var s = document.createElement('script');\n",
       "          document.getElementsByTagName(\"head\")[0].appendChild(s);\n",
       "          s.async = true;\n",
       "          s.onload = () => {\n",
       "            VEGA_DEBUG[key] = version;\n",
       "            return resolve(paths[lib]);\n",
       "          };\n",
       "          s.onerror = () => reject(`Error loading script: ${paths[lib]}`);\n",
       "          s.src = paths[lib];\n",
       "        });\n",
       "    }\n",
       "\n",
       "    function showError(err) {\n",
       "      outputDiv.innerHTML = `<div class=\"error\" style=\"color:red;\">${err}</div>`;\n",
       "      throw err;\n",
       "    }\n",
       "\n",
       "    function displayChart(vegaEmbed) {\n",
       "      vegaEmbed(outputDiv, spec, embedOpt)\n",
       "        .catch(err => showError(`Javascript Error: ${err.message}<br>This usually means there's a typo in your chart specification. See the javascript console for the full traceback.`));\n",
       "    }\n",
       "\n",
       "    if(typeof define === \"function\" && define.amd) {\n",
       "      requirejs.config({paths});\n",
       "      require([\"vega-embed\"], displayChart, err => showError(`Error loading script: ${err.message}`));\n",
       "    } else {\n",
       "      maybeLoadScript(\"vega\", \"5\")\n",
       "        .then(() => maybeLoadScript(\"vega-lite\", \"4.17.0\"))\n",
       "        .then(() => maybeLoadScript(\"vega-embed\", \"6\"))\n",
       "        .catch(showError)\n",
       "        .then(() => displayChart(vegaEmbed));\n",
       "    }\n",
       "  })({\"config\": {\"view\": {\"continuousWidth\": 400, \"continuousHeight\": 300}, \"legend\": {\"labelFontSize\": 15, \"labelLimit\": 600, \"titleFontSize\": 18}}, \"data\": {\"name\": \"data-bd5911d899b93559d4f965f514faa783\"}, \"mark\": \"bar\", \"encoding\": {\"x\": {\"field\": \"Count\", \"scale\": {\"domain\": [0, 1250]}, \"type\": \"quantitative\"}, \"y\": {\"field\": \"Issue\", \"sort\": \"-x\", \"type\": \"nominal\"}}, \"height\": 200, \"title\": \"Top 5 Issue Categories 2015-2016\", \"width\": 300, \"$schema\": \"https://vega.github.io/schema/vega-lite/v4.17.0.json\", \"datasets\": {\"data-bd5911d899b93559d4f965f514faa783\": [{\"Issue\": \"Loan modification,collection,foreclosure\", \"Count\": 1029}, {\"Issue\": \"Loan servicing, payments, escrow account\", \"Count\": 784}, {\"Issue\": \"Account opening, closing, or management\", \"Count\": 753}, {\"Issue\": \"Deposits and withdrawals\", \"Count\": 453}, {\"Issue\": \"Problems caused by my funds being low\", \"Count\": 338}]}}, {\"mode\": \"vega-lite\"});\n",
       "</script>"
      ],
      "text/plain": [
       "alt.Chart(...)"
      ]
     },
     "execution_count": 92,
     "metadata": {},
     "output_type": "execute_result"
    }
   ],
   "source": [
    "boa_df = df_date[df_date['Company'].values  == 'BANK OF AMERICA, NATIONAL ASSOCIATION']\n",
    "boa_issues_df = boa_df.groupby('Issue')['Issue'].count().reset_index(name='count') \\\n",
    "    .sort_values(['count'], ascending=False)\n",
    "\n",
    "#create a dataframe that only has data for complaints with public customer complaint narrative\n",
    "boa_narrative_only_df = boa_df.dropna(subset=['Consumer complaint narrative'])\n",
    "\n",
    "boa_narrative_only_issues_df = boa_narrative_only_df.groupby('Issue')['Issue'].count().reset_index(name='Count') \\\n",
    "    .sort_values(['Count'], ascending=False)\n",
    "\n",
    "boa_bars = alt.Chart(boa_narrative_only_issues_df.head(5)).mark_bar().encode(\n",
    "    x=alt.X('Count:Q', scale=alt.Scale(domain=[0, 1250])),\n",
    "    y=alt.Y('Issue:N', sort='-x')\n",
    ").properties(width=300, height =200, title='Top 5 Issue Categories 2015-2016').configure_legend(\n",
    "    labelLimit= 600, titleFontSize = 18, labelFontSize=15)\n",
    "\n",
    "boa_bars\n",
    "\n",
    "# print(boa_issues_df)\n",
    "\n",
    "# print(boa_narrative_only_issues_df)"
   ]
  },
  {
   "cell_type": "code",
   "execution_count": null,
   "id": "2da598fb",
   "metadata": {},
   "outputs": [],
   "source": []
  }
 ],
 "metadata": {
  "kernelspec": {
   "display_name": "Python 3 (ipykernel)",
   "language": "python",
   "name": "python3"
  },
  "language_info": {
   "codemirror_mode": {
    "name": "ipython",
    "version": 3
   },
   "file_extension": ".py",
   "mimetype": "text/x-python",
   "name": "python",
   "nbconvert_exporter": "python",
   "pygments_lexer": "ipython3",
   "version": "3.8.15"
  }
 },
 "nbformat": 4,
 "nbformat_minor": 5
}
