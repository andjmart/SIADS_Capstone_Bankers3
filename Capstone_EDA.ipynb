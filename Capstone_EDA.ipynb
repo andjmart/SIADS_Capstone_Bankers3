{
 "cells": [
  {
   "cell_type": "code",
   "execution_count": 75,
   "id": "eb689f91",
   "metadata": {},
   "outputs": [
    {
     "name": "stdout",
     "output_type": "stream",
     "text": [
      "Requirement already satisfied: jupyterlab>=3 in ./opt/anaconda3/lib/python3.9/site-packages (3.4.4)\n",
      "Requirement already satisfied: ipywidgets>=7.6 in ./opt/anaconda3/lib/python3.9/site-packages (7.6.5)\n",
      "Requirement already satisfied: tornado>=6.1.0 in ./opt/anaconda3/lib/python3.9/site-packages (from jupyterlab>=3) (6.1)\n",
      "Requirement already satisfied: jupyterlab-server~=2.10 in ./opt/anaconda3/lib/python3.9/site-packages (from jupyterlab>=3) (2.10.3)\n",
      "Requirement already satisfied: notebook<7 in ./opt/anaconda3/lib/python3.9/site-packages (from jupyterlab>=3) (6.4.12)\n",
      "Requirement already satisfied: jupyter-server~=1.16 in ./opt/anaconda3/lib/python3.9/site-packages (from jupyterlab>=3) (1.18.1)\n",
      "Requirement already satisfied: jupyter-core in ./opt/anaconda3/lib/python3.9/site-packages (from jupyterlab>=3) (4.11.1)\n",
      "Requirement already satisfied: jinja2>=2.1 in ./opt/anaconda3/lib/python3.9/site-packages (from jupyterlab>=3) (2.11.3)\n",
      "Requirement already satisfied: packaging in ./opt/anaconda3/lib/python3.9/site-packages (from jupyterlab>=3) (21.3)\n",
      "Requirement already satisfied: nbclassic in ./opt/anaconda3/lib/python3.9/site-packages (from jupyterlab>=3) (0.3.5)\n",
      "Requirement already satisfied: ipython in ./opt/anaconda3/lib/python3.9/site-packages (from jupyterlab>=3) (7.31.1)\n",
      "Requirement already satisfied: ipython-genutils~=0.2.0 in ./opt/anaconda3/lib/python3.9/site-packages (from ipywidgets>=7.6) (0.2.0)\n",
      "Requirement already satisfied: nbformat>=4.2.0 in ./opt/anaconda3/lib/python3.9/site-packages (from ipywidgets>=7.6) (5.5.0)\n",
      "Requirement already satisfied: widgetsnbextension~=3.5.0 in ./opt/anaconda3/lib/python3.9/site-packages (from ipywidgets>=7.6) (3.5.2)\n",
      "Requirement already satisfied: traitlets>=4.3.1 in ./opt/anaconda3/lib/python3.9/site-packages (from ipywidgets>=7.6) (5.1.1)\n",
      "Requirement already satisfied: jupyterlab-widgets>=1.0.0 in ./opt/anaconda3/lib/python3.9/site-packages (from ipywidgets>=7.6) (1.0.0)\n",
      "Requirement already satisfied: ipykernel>=4.5.1 in ./opt/anaconda3/lib/python3.9/site-packages (from ipywidgets>=7.6) (6.15.2)\n",
      "Requirement already satisfied: nest-asyncio in ./opt/anaconda3/lib/python3.9/site-packages (from ipykernel>=4.5.1->ipywidgets>=7.6) (1.5.5)\n",
      "Requirement already satisfied: psutil in ./opt/anaconda3/lib/python3.9/site-packages (from ipykernel>=4.5.1->ipywidgets>=7.6) (5.9.0)\n",
      "Requirement already satisfied: appnope in ./opt/anaconda3/lib/python3.9/site-packages (from ipykernel>=4.5.1->ipywidgets>=7.6) (0.1.2)\n",
      "Requirement already satisfied: jupyter-client>=6.1.12 in ./opt/anaconda3/lib/python3.9/site-packages (from ipykernel>=4.5.1->ipywidgets>=7.6) (7.3.4)\n",
      "Requirement already satisfied: debugpy>=1.0 in ./opt/anaconda3/lib/python3.9/site-packages (from ipykernel>=4.5.1->ipywidgets>=7.6) (1.5.1)\n",
      "Requirement already satisfied: pyzmq>=17 in ./opt/anaconda3/lib/python3.9/site-packages (from ipykernel>=4.5.1->ipywidgets>=7.6) (23.2.0)\n",
      "Requirement already satisfied: matplotlib-inline>=0.1 in ./opt/anaconda3/lib/python3.9/site-packages (from ipykernel>=4.5.1->ipywidgets>=7.6) (0.1.6)\n",
      "Requirement already satisfied: pickleshare in ./opt/anaconda3/lib/python3.9/site-packages (from ipython->jupyterlab>=3) (0.7.5)\n",
      "Requirement already satisfied: decorator in ./opt/anaconda3/lib/python3.9/site-packages (from ipython->jupyterlab>=3) (5.1.1)\n",
      "Requirement already satisfied: setuptools>=18.5 in ./opt/anaconda3/lib/python3.9/site-packages (from ipython->jupyterlab>=3) (65.6.3)\n",
      "Requirement already satisfied: jedi>=0.16 in ./opt/anaconda3/lib/python3.9/site-packages (from ipython->jupyterlab>=3) (0.18.1)\n",
      "Requirement already satisfied: prompt-toolkit!=3.0.0,!=3.0.1,<3.1.0,>=2.0.0 in ./opt/anaconda3/lib/python3.9/site-packages (from ipython->jupyterlab>=3) (3.0.20)\n",
      "Requirement already satisfied: backcall in ./opt/anaconda3/lib/python3.9/site-packages (from ipython->jupyterlab>=3) (0.2.0)\n",
      "Requirement already satisfied: pexpect>4.3 in ./opt/anaconda3/lib/python3.9/site-packages (from ipython->jupyterlab>=3) (4.8.0)\n",
      "Requirement already satisfied: pygments in ./opt/anaconda3/lib/python3.9/site-packages (from ipython->jupyterlab>=3) (2.11.2)\n",
      "Requirement already satisfied: MarkupSafe>=0.23 in ./opt/anaconda3/lib/python3.9/site-packages (from jinja2>=2.1->jupyterlab>=3) (2.0.1)\n",
      "Requirement already satisfied: websocket-client in ./opt/anaconda3/lib/python3.9/site-packages (from jupyter-server~=1.16->jupyterlab>=3) (0.58.0)\n",
      "Requirement already satisfied: nbconvert>=6.4.4 in ./opt/anaconda3/lib/python3.9/site-packages (from jupyter-server~=1.16->jupyterlab>=3) (6.4.4)\n",
      "Requirement already satisfied: prometheus-client in ./opt/anaconda3/lib/python3.9/site-packages (from jupyter-server~=1.16->jupyterlab>=3) (0.14.1)\n",
      "Requirement already satisfied: Send2Trash in ./opt/anaconda3/lib/python3.9/site-packages (from jupyter-server~=1.16->jupyterlab>=3) (1.8.0)\n",
      "Requirement already satisfied: argon2-cffi in ./opt/anaconda3/lib/python3.9/site-packages (from jupyter-server~=1.16->jupyterlab>=3) (21.3.0)\n",
      "Requirement already satisfied: terminado>=0.8.3 in ./opt/anaconda3/lib/python3.9/site-packages (from jupyter-server~=1.16->jupyterlab>=3) (0.13.1)\n",
      "Requirement already satisfied: anyio<4,>=3.1.0 in ./opt/anaconda3/lib/python3.9/site-packages (from jupyter-server~=1.16->jupyterlab>=3) (3.5.0)\n",
      "Requirement already satisfied: babel in ./opt/anaconda3/lib/python3.9/site-packages (from jupyterlab-server~=2.10->jupyterlab>=3) (2.9.1)\n",
      "Requirement already satisfied: entrypoints>=0.2.2 in ./opt/anaconda3/lib/python3.9/site-packages (from jupyterlab-server~=2.10->jupyterlab>=3) (0.4)\n",
      "Requirement already satisfied: requests in ./opt/anaconda3/lib/python3.9/site-packages (from jupyterlab-server~=2.10->jupyterlab>=3) (2.28.1)\n",
      "Requirement already satisfied: json5 in ./opt/anaconda3/lib/python3.9/site-packages (from jupyterlab-server~=2.10->jupyterlab>=3) (0.9.6)\n",
      "Requirement already satisfied: jsonschema>=3.0.1 in ./opt/anaconda3/lib/python3.9/site-packages (from jupyterlab-server~=2.10->jupyterlab>=3) (4.16.0)\n",
      "Requirement already satisfied: fastjsonschema in ./opt/anaconda3/lib/python3.9/site-packages (from nbformat>=4.2.0->ipywidgets>=7.6) (2.16.2)\n",
      "Requirement already satisfied: pyparsing!=3.0.5,>=2.0.2 in ./opt/anaconda3/lib/python3.9/site-packages (from packaging->jupyterlab>=3) (3.0.9)\n",
      "Requirement already satisfied: sniffio>=1.1 in ./opt/anaconda3/lib/python3.9/site-packages (from anyio<4,>=3.1.0->jupyter-server~=1.16->jupyterlab>=3) (1.2.0)\n",
      "Requirement already satisfied: idna>=2.8 in ./opt/anaconda3/lib/python3.9/site-packages (from anyio<4,>=3.1.0->jupyter-server~=1.16->jupyterlab>=3) (3.3)\n",
      "Requirement already satisfied: parso<0.9.0,>=0.8.0 in ./opt/anaconda3/lib/python3.9/site-packages (from jedi>=0.16->ipython->jupyterlab>=3) (0.8.3)\n",
      "Requirement already satisfied: attrs>=17.4.0 in ./opt/anaconda3/lib/python3.9/site-packages (from jsonschema>=3.0.1->jupyterlab-server~=2.10->jupyterlab>=3) (21.4.0)\n",
      "Requirement already satisfied: pyrsistent!=0.17.0,!=0.17.1,!=0.17.2,>=0.14.0 in ./opt/anaconda3/lib/python3.9/site-packages (from jsonschema>=3.0.1->jupyterlab-server~=2.10->jupyterlab>=3) (0.18.0)\n",
      "Requirement already satisfied: python-dateutil>=2.8.2 in ./opt/anaconda3/lib/python3.9/site-packages (from jupyter-client>=6.1.12->ipykernel>=4.5.1->ipywidgets>=7.6) (2.8.2)\n",
      "Requirement already satisfied: pandocfilters>=1.4.1 in ./opt/anaconda3/lib/python3.9/site-packages (from nbconvert>=6.4.4->jupyter-server~=1.16->jupyterlab>=3) (1.5.0)\n",
      "Requirement already satisfied: nbclient<0.6.0,>=0.5.0 in ./opt/anaconda3/lib/python3.9/site-packages (from nbconvert>=6.4.4->jupyter-server~=1.16->jupyterlab>=3) (0.5.13)\n",
      "Requirement already satisfied: jupyterlab-pygments in ./opt/anaconda3/lib/python3.9/site-packages (from nbconvert>=6.4.4->jupyter-server~=1.16->jupyterlab>=3) (0.1.2)\n",
      "Requirement already satisfied: beautifulsoup4 in ./opt/anaconda3/lib/python3.9/site-packages (from nbconvert>=6.4.4->jupyter-server~=1.16->jupyterlab>=3) (4.11.1)\n",
      "Requirement already satisfied: defusedxml in ./opt/anaconda3/lib/python3.9/site-packages (from nbconvert>=6.4.4->jupyter-server~=1.16->jupyterlab>=3) (0.7.1)\n",
      "Requirement already satisfied: testpath in ./opt/anaconda3/lib/python3.9/site-packages (from nbconvert>=6.4.4->jupyter-server~=1.16->jupyterlab>=3) (0.6.0)\n",
      "Requirement already satisfied: mistune<2,>=0.8.1 in ./opt/anaconda3/lib/python3.9/site-packages (from nbconvert>=6.4.4->jupyter-server~=1.16->jupyterlab>=3) (0.8.4)\n",
      "Requirement already satisfied: bleach in ./opt/anaconda3/lib/python3.9/site-packages (from nbconvert>=6.4.4->jupyter-server~=1.16->jupyterlab>=3) (4.1.0)\n",
      "Requirement already satisfied: ptyprocess>=0.5 in ./opt/anaconda3/lib/python3.9/site-packages (from pexpect>4.3->ipython->jupyterlab>=3) (0.7.0)\n",
      "Requirement already satisfied: wcwidth in ./opt/anaconda3/lib/python3.9/site-packages (from prompt-toolkit!=3.0.0,!=3.0.1,<3.1.0,>=2.0.0->ipython->jupyterlab>=3) (0.2.5)\n",
      "Requirement already satisfied: argon2-cffi-bindings in ./opt/anaconda3/lib/python3.9/site-packages (from argon2-cffi->jupyter-server~=1.16->jupyterlab>=3) (21.2.0)\n",
      "Requirement already satisfied: pytz>=2015.7 in ./opt/anaconda3/lib/python3.9/site-packages (from babel->jupyterlab-server~=2.10->jupyterlab>=3) (2022.1)\n",
      "Requirement already satisfied: certifi>=2017.4.17 in ./opt/anaconda3/lib/python3.9/site-packages (from requests->jupyterlab-server~=2.10->jupyterlab>=3) (2022.9.24)\n",
      "Requirement already satisfied: urllib3<1.27,>=1.21.1 in ./opt/anaconda3/lib/python3.9/site-packages (from requests->jupyterlab-server~=2.10->jupyterlab>=3) (1.26.11)\n",
      "Requirement already satisfied: charset-normalizer<3,>=2 in ./opt/anaconda3/lib/python3.9/site-packages (from requests->jupyterlab-server~=2.10->jupyterlab>=3) (2.0.4)\n",
      "Requirement already satisfied: six in ./opt/anaconda3/lib/python3.9/site-packages (from websocket-client->jupyter-server~=1.16->jupyterlab>=3) (1.16.0)\n",
      "Requirement already satisfied: cffi>=1.0.1 in ./opt/anaconda3/lib/python3.9/site-packages (from argon2-cffi-bindings->argon2-cffi->jupyter-server~=1.16->jupyterlab>=3) (1.15.1)\n",
      "Requirement already satisfied: soupsieve>1.2 in ./opt/anaconda3/lib/python3.9/site-packages (from beautifulsoup4->nbconvert>=6.4.4->jupyter-server~=1.16->jupyterlab>=3) (2.3.1)\n",
      "Requirement already satisfied: webencodings in ./opt/anaconda3/lib/python3.9/site-packages (from bleach->nbconvert>=6.4.4->jupyter-server~=1.16->jupyterlab>=3) (0.5.1)\n",
      "Requirement already satisfied: pycparser in ./opt/anaconda3/lib/python3.9/site-packages (from cffi>=1.0.1->argon2-cffi-bindings->argon2-cffi->jupyter-server~=1.16->jupyterlab>=3) (2.21)\n",
      "Requirement already satisfied: plotly==5.10.0 in ./opt/anaconda3/lib/python3.9/site-packages (5.10.0)\n",
      "Requirement already satisfied: tenacity>=6.2.0 in ./opt/anaconda3/lib/python3.9/site-packages (from plotly==5.10.0) (8.0.1)\n",
      "Requirement already satisfied: altair in ./opt/anaconda3/lib/python3.9/site-packages (4.2.0)\n",
      "Requirement already satisfied: toolz in ./opt/anaconda3/lib/python3.9/site-packages (from altair) (0.11.2)\n",
      "Requirement already satisfied: numpy in ./opt/anaconda3/lib/python3.9/site-packages (from altair) (1.21.5)\n",
      "Requirement already satisfied: jinja2 in ./opt/anaconda3/lib/python3.9/site-packages (from altair) (2.11.3)\n",
      "Requirement already satisfied: entrypoints in ./opt/anaconda3/lib/python3.9/site-packages (from altair) (0.4)\n",
      "Requirement already satisfied: jsonschema>=3.0 in ./opt/anaconda3/lib/python3.9/site-packages (from altair) (4.16.0)\n",
      "Requirement already satisfied: pandas>=0.18 in ./opt/anaconda3/lib/python3.9/site-packages (from altair) (1.4.4)\n",
      "Requirement already satisfied: pyrsistent!=0.17.0,!=0.17.1,!=0.17.2,>=0.14.0 in ./opt/anaconda3/lib/python3.9/site-packages (from jsonschema>=3.0->altair) (0.18.0)\n",
      "Requirement already satisfied: attrs>=17.4.0 in ./opt/anaconda3/lib/python3.9/site-packages (from jsonschema>=3.0->altair) (21.4.0)\n",
      "Requirement already satisfied: python-dateutil>=2.8.1 in ./opt/anaconda3/lib/python3.9/site-packages (from pandas>=0.18->altair) (2.8.2)\n",
      "Requirement already satisfied: pytz>=2020.1 in ./opt/anaconda3/lib/python3.9/site-packages (from pandas>=0.18->altair) (2022.1)\n",
      "Requirement already satisfied: MarkupSafe>=0.23 in ./opt/anaconda3/lib/python3.9/site-packages (from jinja2->altair) (2.0.1)\n",
      "Requirement already satisfied: six>=1.5 in ./opt/anaconda3/lib/python3.9/site-packages (from python-dateutil>=2.8.1->pandas>=0.18->altair) (1.16.0)\n"
     ]
    }
   ],
   "source": [
    "!pip install \"jupyterlab>=3\" \"ipywidgets>=7.6\"\n",
    "!pip install plotly==5.10.0\n",
    "!pip install altair"
   ]
  },
  {
   "cell_type": "code",
   "execution_count": 76,
   "id": "8fe46d8e",
   "metadata": {},
   "outputs": [
    {
     "name": "stderr",
     "output_type": "stream",
     "text": [
      "[nltk_data] Downloading package stopwords to\n",
      "[nltk_data]     /Users/DanielYoon/nltk_data...\n",
      "[nltk_data]   Package stopwords is already up-to-date!\n"
     ]
    },
    {
     "data": {
      "text/plain": [
       "DataTransformerRegistry.enable('default')"
      ]
     },
     "execution_count": 76,
     "metadata": {},
     "output_type": "execute_result"
    }
   ],
   "source": [
    "import pandas as pd\n",
    "import sklearn\n",
    "import altair as alt\n",
    "import plotly.express as px\n",
    "import sklearn\n",
    "import pickle\n",
    "import nltk\n",
    "from nltk.corpus import stopwords\n",
    "from nltk.stem import WordNetLemmatizer\n",
    "from sklearn.feature_extraction.text import TfidfVectorizer\n",
    "nltk.download('stopwords')\n",
    "from gensim.models.coherencemodel import CoherenceModel\n",
    "stop_words = set(nltk.corpus.stopwords.words('english'))\n",
    "alt.data_transformers.disable_max_rows()"
   ]
  },
  {
   "cell_type": "code",
   "execution_count": null,
   "id": "db89cc98",
   "metadata": {},
   "outputs": [],
   "source": [
    "df=pd.read_csv('complaints.csv')\n"
   ]
  },
  {
   "cell_type": "code",
   "execution_count": null,
   "id": "54e7647a",
   "metadata": {},
   "outputs": [],
   "source": [
    "df.shape\n"
   ]
  },
  {
   "cell_type": "code",
   "execution_count": null,
   "id": "2d6a5bc9",
   "metadata": {},
   "outputs": [],
   "source": [
    "df['Consumer complaint narrative']"
   ]
  },
  {
   "cell_type": "code",
   "execution_count": null,
   "id": "550f20c3",
   "metadata": {},
   "outputs": [],
   "source": [
    "df.isnull().sum()"
   ]
  },
  {
   "cell_type": "code",
   "execution_count": null,
   "id": "0c18b026",
   "metadata": {},
   "outputs": [],
   "source": [
    "df['Date_received_dt'] = pd.to_datetime(df['Date received'], format='%Y/%m/%d')\n"
   ]
  },
  {
   "cell_type": "code",
   "execution_count": null,
   "id": "5af322fd",
   "metadata": {},
   "outputs": [],
   "source": [
    "import seaborn as sns\n",
    "import matplotlib.pyplot as plt\n",
    "\n",
    "fig = sns.histplot(data=df.Date_received_dt, kde=False, bins=24)\n",
    "plt.xlabel('Date')\n",
    "plt.show(fig)\n",
    "\n",
    "\n"
   ]
  },
  {
   "cell_type": "code",
   "execution_count": null,
   "id": "e05d7682",
   "metadata": {},
   "outputs": [],
   "source": [
    "fig = px.histogram(df, x=\"Date_received_dt\", labels={\n",
    "                     \"Date_received_dt\": \"Date\",\n",
    "                 })\n",
    "\n",
    "fig.update_layout({\n",
    "    'plot_bgcolor': 'rgba(0,0,0,0)',\n",
    "})\n",
    "\n",
    "import plotly.graph_objects as go\n",
    "fig.update_layout(shapes=[go.layout.Shape(\n",
    "type='rect',\n",
    "xref='paper',\n",
    "yref='paper',\n",
    "x0=0,\n",
    "y0=0,\n",
    "x1=1,\n",
    "y1=1,\n",
    "line={'width': 1, 'color': 'black'}\n",
    ")])\n",
    "\n",
    "fig.show()"
   ]
  },
  {
   "cell_type": "code",
   "execution_count": null,
   "id": "245c0dbb",
   "metadata": {},
   "outputs": [],
   "source": [
    "P = df.groupby(['Date_received_dt','Timely response?'])['Complaint ID'].count().reset_index()\n",
    "P2 = P[0:7800]\n",
    "P = P2"
   ]
  },
  {
   "cell_type": "code",
   "execution_count": null,
   "id": "4cbe817f",
   "metadata": {},
   "outputs": [],
   "source": [
    "P['Percentage'] = P.groupby('Date_received_dt')['Complaint ID'].apply(lambda x: x*100/x.sum())\n"
   ]
  },
  {
   "cell_type": "code",
   "execution_count": null,
   "id": "0b4e48d9",
   "metadata": {},
   "outputs": [],
   "source": [
    "P_yes=P[P['Timely response?']=='Yes']\n"
   ]
  },
  {
   "cell_type": "code",
   "execution_count": null,
   "id": "b52679ee",
   "metadata": {},
   "outputs": [],
   "source": [
    "fig = px.line(P_yes, x='Date_received_dt',y=\"Percentage\", labels={\n",
    "                     \"Date_received_dt\": \"Date\",\n",
    "                 })\n",
    "\n",
    "\n",
    "\n",
    "fig.update_layout({\n",
    "    'plot_bgcolor': 'rgba(0,0,0,0)',\n",
    "})\n",
    "\n",
    "import plotly.graph_objects as go\n",
    "fig.update_layout(shapes=[go.layout.Shape(\n",
    "type='rect',\n",
    "xref='paper',\n",
    "yref='paper',\n",
    "x0=0,\n",
    "y0=0,\n",
    "x1=1,\n",
    "y1=1,\n",
    "line={'width': 1, 'color': 'lightgray'}\n",
    ")])\n",
    "\n",
    "fig.update_xaxes(showgrid=True, gridwidth=1, gridcolor='lightgray')\n",
    "fig.update_yaxes(showgrid=True, gridwidth=1, gridcolor='lightgray')\n",
    "\n",
    "fig.show()\n",
    "\n"
   ]
  },
  {
   "cell_type": "markdown",
   "id": "88dd221a",
   "metadata": {},
   "source": [
    "# Used line chart to show the monthly timely response rate by top 5 complaints companies in terms of volume."
   ]
  },
  {
   "cell_type": "code",
   "execution_count": null,
   "id": "4e6db0e5",
   "metadata": {},
   "outputs": [],
   "source": [
    "top5=df.groupby('Company')['Complaint ID'].count().reset_index(name='count') \\\n",
    "                             .sort_values(['count'], ascending=False) \\\n",
    "                             .head(5)\n",
    "top5_company=top5.Company.to_list()\n",
    "top5_df=df[df['Company'].isin(top10_company)]"
   ]
  },
  {
   "cell_type": "code",
   "execution_count": null,
   "id": "dc7d71f6",
   "metadata": {},
   "outputs": [],
   "source": [
    "#Group by the data to year and month level\n",
    "P2=top5_df.groupby([top5_df['Date_received_dt'].dt.to_period('M').rename('Year-Month'),\n",
    "                     'Company','Timely response?'])['Complaint ID'].count().reset_index(name='count')\n",
    "\n",
    "P2['Percentage']=P2.groupby(['Year-Month'\n",
    "           ,'Company'])['count'].apply(lambda x: x*100/x.sum())"
   ]
  },
  {
   "cell_type": "code",
   "execution_count": null,
   "id": "96f7d306",
   "metadata": {},
   "outputs": [],
   "source": [
    "#Keep only timely response percentage.\n",
    "P2_yes=P2[P2['Timely response?']=='Yes']"
   ]
  },
  {
   "cell_type": "code",
   "execution_count": null,
   "id": "33dec28a",
   "metadata": {},
   "outputs": [],
   "source": [
    "fig = px.line(P2_yes, x=P2_yes['Year-Month'].dt.to_timestamp(),y=\"Percentage\",color='Company', labels={\n",
    "                     \"x\": \"Date\",\n",
    "                 })\n",
    "\n",
    "\n",
    "\n",
    "\n",
    "fig.update_layout({\n",
    "    'plot_bgcolor': 'rgba(0,0,0,0)',\n",
    "})\n",
    "\n",
    "import plotly.graph_objects as go\n",
    "fig.update_layout(shapes=[go.layout.Shape(\n",
    "type='rect',\n",
    "xref='paper',\n",
    "yref='paper',\n",
    "x0=0,\n",
    "y0=0,\n",
    "x1=1,\n",
    "y1=1,\n",
    "line={'width': 1, 'color': 'lightgray'}\n",
    ")])\n",
    "\n",
    "fig.update_xaxes(showgrid=True, gridwidth=1, gridcolor='lightgray')\n",
    "fig.update_yaxes(showgrid=True, gridwidth=1, gridcolor='lightgray')\n",
    "\n",
    "fig.show()\n"
   ]
  },
  {
   "cell_type": "markdown",
   "id": "d2f73623",
   "metadata": {},
   "source": [
    "# Used scatter plot to show the timely response rate by top 5 issues"
   ]
  },
  {
   "cell_type": "code",
   "execution_count": null,
   "id": "06d1f93f",
   "metadata": {},
   "outputs": [],
   "source": [
    "top5_issue=df.groupby('Issue')['Complaint ID'].count().reset_index(name='count') \\\n",
    "                             .sort_values(['count'], ascending=False) \\\n",
    "                             .head(5)\n",
    "top5_issue=top5_issue.Issue.to_list()\n",
    "top5_df_issue=df[df['Issue'].isin(top5_issue)]"
   ]
  },
  {
   "cell_type": "code",
   "execution_count": null,
   "id": "eb95ccbb",
   "metadata": {},
   "outputs": [],
   "source": [
    "P3=top5_df_issue.groupby([top5_df_issue['Date_received_dt'].dt.to_period('M').rename('Year-Month'),\n",
    "                     'Issue','Timely response?'])['Complaint ID'].count().reset_index(name='count')\n",
    "\n",
    "P3['Percentage']=P3.groupby(['Year-Month'\n",
    "           ,'Issue'])['count'].apply(lambda x: x*100/x.sum())"
   ]
  },
  {
   "cell_type": "code",
   "execution_count": null,
   "id": "7a87c0bd",
   "metadata": {},
   "outputs": [],
   "source": [
    "P3_yes=P3[P3['Timely response?']=='Yes']"
   ]
  },
  {
   "cell_type": "code",
   "execution_count": null,
   "id": "cba3ef31",
   "metadata": {},
   "outputs": [],
   "source": [
    "fig = px.scatter(P3_yes, x=P3_yes['Year-Month'].dt.to_timestamp(),y=\"Percentage\",color='Issue', labels={\n",
    "                     \"x\": \"Date\",\n",
    "                 })\n",
    "\n",
    "\n",
    "\n",
    "\n",
    "\n",
    "fig.update_layout({\n",
    "    'plot_bgcolor': 'rgba(0,0,0,0)',\n",
    "})\n",
    "\n",
    "import plotly.graph_objects as go\n",
    "fig.update_layout(shapes=[go.layout.Shape(\n",
    "type='rect',\n",
    "xref='paper',\n",
    "yref='paper',\n",
    "x0=0,\n",
    "y0=0,\n",
    "x1=1,\n",
    "y1=1,\n",
    "line={'width': 1, 'color': 'lightgray'}\n",
    ")])\n",
    "\n",
    "fig.update_xaxes(showgrid=True, gridwidth=1, gridcolor='lightgray')\n",
    "fig.update_yaxes(showgrid=True, gridwidth=1, gridcolor='lightgray')\n",
    "\n",
    "fig.show()\n",
    "\n",
    "\n"
   ]
  },
  {
   "cell_type": "markdown",
   "id": "0e1751fb",
   "metadata": {},
   "source": [
    "# How customers submit to the company"
   ]
  },
  {
   "cell_type": "code",
   "execution_count": null,
   "id": "3f36853c",
   "metadata": {},
   "outputs": [],
   "source": [
    "fig = sns.displot(data = df, x=\"Date_received_dt\", hue='Submitted via')\n",
    "plt.xlabel('Date')\n",
    "\n",
    "plt.show(fig)"
   ]
  },
  {
   "cell_type": "markdown",
   "id": "4db55458",
   "metadata": {},
   "source": [
    "# How companies respond to customers"
   ]
  },
  {
   "cell_type": "code",
   "execution_count": null,
   "id": "b0fe5223",
   "metadata": {},
   "outputs": [],
   "source": [
    "sns.displot(data = df, x=\"Date_received_dt\", hue='Company response to consumer', kind='kde')\n",
    "plt.xlabel('Date')\n",
    "\n",
    "plt.show(fig)"
   ]
  },
  {
   "cell_type": "code",
   "execution_count": null,
   "id": "d8a814b2",
   "metadata": {},
   "outputs": [],
   "source": [
    "dfd"
   ]
  },
  {
   "cell_type": "code",
   "execution_count": null,
   "id": "a70ffb02",
   "metadata": {},
   "outputs": [],
   "source": []
  }
 ],
 "metadata": {
  "kernelspec": {
   "display_name": "Python 3 (ipykernel)",
   "language": "python",
   "name": "python3"
  },
  "language_info": {
   "codemirror_mode": {
    "name": "ipython",
    "version": 3
   },
   "file_extension": ".py",
   "mimetype": "text/x-python",
   "name": "python",
   "nbconvert_exporter": "python",
   "pygments_lexer": "ipython3",
   "version": "3.9.13"
  }
 },
 "nbformat": 4,
 "nbformat_minor": 5
}
